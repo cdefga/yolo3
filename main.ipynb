{
 "nbformat": 4,
 "nbformat_minor": 2,
 "metadata": {
  "language_info": {
   "name": "python",
   "codemirror_mode": {
    "name": "ipython",
    "version": 3
   },
   "version": "3.6.7"
  },
  "orig_nbformat": 2,
  "file_extension": ".py",
  "mimetype": "text/x-python",
  "name": "python",
  "npconvert_exporter": "python",
  "pygments_lexer": "ipython3",
  "version": 3
 },
 "cells": [
  {
   "cell_type": "code",
   "execution_count": 1,
   "metadata": {},
   "outputs": [
    {
     "name": "stdout",
     "output_type": "stream",
     "text": "/home/bakasaka/Projects/yolo3-tf2\n"
    }
   ],
   "source": [
    "import os\n",
    "# os.chdir('/home/bakasaka/Projects/yolo3-tf2/keras-yolo3')\n",
    "os.chdir(os.getcwd())\n",
    "print(os.getcwd())"
   ]
  },
  {
   "cell_type": "code",
   "execution_count": 2,
   "metadata": {},
   "outputs": [],
   "source": [
    "import tensorflow as tf\n",
    "from yolo.train import train_fn\n",
    "from yolo.config import ConfigParser\n",
    "import numpy as np"
   ]
  },
  {
   "cell_type": "code",
   "execution_count": 3,
   "metadata": {},
   "outputs": [],
   "source": [
    "# import tensorflow as tf\n",
    "# print(\"Num GPUs Available: \", len(tf.config.experimental.list_physical_devices('GPU')))\n"
   ]
  },
  {
   "cell_type": "code",
   "execution_count": 12,
   "metadata": {},
   "outputs": [
    {
     "name": "stdout",
     "output_type": "stream",
     "text": "_initial_net_size\n288 288 288\n_initial_net_size\n288 288 288\nTraining samples : 2, Validation samples : 0\nTensor(\"conv_pw_5_relu_1/Identity:0\", shape=(None, 36, 36, 256), dtype=float32)\nKeras pretrained weights loaded from configs/svhn/test/weights.h5!!\n"
    }
   ],
   "source": [
    "config = './configs/svhn.json'\n",
    "config_parser = ConfigParser(config)\n",
    "\n",
    "# 1. create generator\n",
    "train_generator, valid_generator = config_parser.create_generator(valid_test=True)\n",
    "\n",
    "# 2. create model\n",
    "model = config_parser.create_model()\n",
    "\n",
    "# 3. training\n",
    "learning_rate, save_dname, n_epoches, checkpoint_path = config_parser.get_train_params()\n"
   ]
  },
  {
   "cell_type": "code",
   "execution_count": 8,
   "metadata": {},
   "outputs": [],
   "source": [
    "# x,y,z = model(tf.constant(np.random.randn(6, 288, 288, 3).astype(np.float32)))\n",
    "# train_generator.steps_per_epoch"
   ]
  },
  {
   "cell_type": "code",
   "execution_count": 7,
   "metadata": {},
   "outputs": [
    {
     "name": "stderr",
     "output_type": "stream",
     "text": "0%|          | 0/1 [00:00<?, ?it/s]\n    Initializing from scratch.\n100%|██████████| 1/1 [00:02<00:00,  2.08s/it]\n0-th loss = 11.208998680114746, train_loss = 11.208998680114746\n    update weight 11.208998680114746\n100%|██████████| 1/1 [00:01<00:00,  1.32s/it]\n  0%|          | 0/1 [00:00<?, ?it/s]1-th loss = 11.304290771484375, train_loss = 11.304290771484375\n100%|██████████| 1/1 [00:01<00:00,  1.40s/it]\n2-th loss = 10.688186645507812, train_loss = 10.688186645507812\n    update weight 10.688186645507812\n100%|██████████| 1/1 [00:01<00:00,  1.31s/it]\n  0%|          | 0/1 [00:00<?, ?it/s]3-th loss = 11.064233779907227, train_loss = 11.064233779907227\n100%|██████████| 1/1 [00:01<00:00,  1.38s/it]\n  0%|          | 0/1 [00:00<?, ?it/s]4-th loss = 10.818806648254395, train_loss = 10.818806648254395\n100%|██████████| 1/1 [00:01<00:00,  1.43s/it]\n5-th loss = 10.624000549316406, train_loss = 10.624000549316406\n    update weight 10.624000549316406\n100%|██████████| 1/1 [00:01<00:00,  1.44s/it]\n  0%|          | 0/1 [00:00<?, ?it/s]6-th loss = 10.72531509399414, train_loss = 10.72531509399414\n100%|██████████| 1/1 [00:01<00:00,  1.42s/it]\n  0%|          | 0/1 [00:00<?, ?it/s]7-th loss = 10.785836219787598, train_loss = 10.785836219787598\n100%|██████████| 1/1 [00:01<00:00,  1.43s/it]\n  0%|          | 0/1 [00:00<?, ?it/s]8-th loss = 10.662864685058594, train_loss = 10.662864685058594\n100%|██████████| 1/1 [00:01<00:00,  1.36s/it]\n9-th loss = 10.573039054870605, train_loss = 10.573039054870605\n    update weight 10.573039054870605\n100%|██████████| 1/1 [00:01<00:00,  1.35s/it]\n  0%|          | 0/1 [00:00<?, ?it/s]10-th loss = 10.602054595947266, train_loss = 10.602054595947266\n100%|██████████| 1/1 [00:01<00:00,  1.46s/it]\n  0%|          | 0/1 [00:00<?, ?it/s]11-th loss = 10.652276992797852, train_loss = 10.652276992797852\n100%|██████████| 1/1 [00:01<00:00,  1.37s/it]\n  0%|          | 0/1 [00:00<?, ?it/s]12-th loss = 10.607612609863281, train_loss = 10.607612609863281\n100%|██████████| 1/1 [00:01<00:00,  1.24s/it]\n13-th loss = 10.511427879333496, train_loss = 10.511427879333496\n    update weight 10.511427879333496\n100%|██████████| 1/1 [00:01<00:00,  1.29s/it]\n14-th loss = 10.504939079284668, train_loss = 10.504939079284668\n    update weight 10.504939079284668\n100%|██████████| 1/1 [00:01<00:00,  1.21s/it]\n  0%|          | 0/1 [00:00<?, ?it/s]15-th loss = 10.57127857208252, train_loss = 10.57127857208252\n100%|██████████| 1/1 [00:01<00:00,  1.19s/it]\n  0%|          | 0/1 [00:00<?, ?it/s]16-th loss = 10.526515007019043, train_loss = 10.526515007019043\n100%|██████████| 1/1 [00:01<00:00,  1.19s/it]\n17-th loss = 10.461078643798828, train_loss = 10.461078643798828\n    update weight 10.461078643798828\n100%|██████████| 1/1 [00:01<00:00,  1.23s/it]\n  0%|          | 0/1 [00:00<?, ?it/s]18-th loss = 10.516412734985352, train_loss = 10.516412734985352\n100%|██████████| 1/1 [00:01<00:00,  1.21s/it]\n  0%|          | 0/1 [00:00<?, ?it/s]19-th loss = 10.507012367248535, train_loss = 10.507012367248535\n100%|██████████| 1/1 [00:01<00:00,  1.22s/it]\n20-th loss = 10.454924583435059, train_loss = 10.454924583435059\n    update weight 10.454924583435059\n100%|██████████| 1/1 [00:01<00:00,  1.25s/it]\n  0%|          | 0/1 [00:00<?, ?it/s]21-th loss = 10.486778259277344, train_loss = 10.486778259277344\n100%|██████████| 1/1 [00:01<00:00,  1.25s/it]\n  0%|          | 0/1 [00:00<?, ?it/s]22-th loss = 10.47330379486084, train_loss = 10.47330379486084\n100%|██████████| 1/1 [00:01<00:00,  1.23s/it]\n  0%|          | 0/1 [00:00<?, ?it/s]23-th loss = 10.45871353149414, train_loss = 10.45871353149414\n100%|██████████| 1/1 [00:01<00:00,  1.20s/it]\n  0%|          | 0/1 [00:00<?, ?it/s]24-th loss = 10.476588249206543, train_loss = 10.476588249206543\n100%|██████████| 1/1 [00:01<00:00,  1.27s/it]\n25-th loss = 10.452302932739258, train_loss = 10.452302932739258\n    update weight 10.452302932739258\n100%|██████████| 1/1 [00:01<00:00,  1.14s/it]\n  0%|          | 0/1 [00:00<?, ?it/s]26-th loss = 10.458368301391602, train_loss = 10.458368301391602\n100%|██████████| 1/1 [00:01<00:00,  1.28s/it]\n  0%|          | 0/1 [00:00<?, ?it/s]27-th loss = 10.465619087219238, train_loss = 10.465619087219238\n100%|██████████| 1/1 [00:01<00:00,  1.21s/it]\n28-th loss = 10.438115119934082, train_loss = 10.438115119934082\n    update weight 10.438115119934082\n100%|██████████| 1/1 [00:01<00:00,  1.19s/it]\n  0%|          | 0/1 [00:00<?, ?it/s]29-th loss = 10.456888198852539, train_loss = 10.456888198852539\n100%|██████████| 1/1 [00:01<00:00,  1.20s/it]\n  0%|          | 0/1 [00:00<?, ?it/s]30-th loss = 10.45500659942627, train_loss = 10.45500659942627\n100%|██████████| 1/1 [00:01<00:00,  1.22s/it]\n31-th loss = 10.43522834777832, train_loss = 10.43522834777832\n    update weight 10.43522834777832\n100%|██████████| 1/1 [00:01<00:00,  1.22s/it]\n  0%|          | 0/1 [00:00<?, ?it/s]32-th loss = 10.453337669372559, train_loss = 10.453337669372559\n100%|██████████| 1/1 [00:01<00:00,  1.23s/it]\n  0%|          | 0/1 [00:00<?, ?it/s]33-th loss = 10.444048881530762, train_loss = 10.444048881530762\n100%|██████████| 1/1 [00:01<00:00,  1.31s/it]\n  0%|          | 0/1 [00:00<?, ?it/s]34-th loss = 10.437533378601074, train_loss = 10.437533378601074\n100%|██████████| 1/1 [00:01<00:00,  1.34s/it]\n  0%|          | 0/1 [00:00<?, ?it/s]35-th loss = 10.446798324584961, train_loss = 10.446798324584961\n100%|██████████| 1/1 [00:01<00:00,  1.29s/it]\n  0%|          | 0/1 [00:00<?, ?it/s]36-th loss = 10.436336517333984, train_loss = 10.436336517333984\n100%|██████████| 1/1 [00:01<00:00,  1.34s/it]\n  0%|          | 0/1 [00:00<?, ?it/s]37-th loss = 10.440689086914062, train_loss = 10.440689086914062\n100%|██████████| 1/1 [00:01<00:00,  1.34s/it]\n  0%|          | 0/1 [00:00<?, ?it/s]38-th loss = 10.438040733337402, train_loss = 10.438040733337402\n100%|██████████| 1/1 [00:01<00:00,  1.30s/it]\n39-th loss = 10.43501091003418, train_loss = 10.43501091003418\n    update weight 10.43501091003418\n"
    },
    {
     "data": {
      "text/plain": "[<tf.Tensor: id=114273, shape=(), dtype=float32, numpy=11.208999>,\n <tf.Tensor: id=116883, shape=(), dtype=float32, numpy=11.304291>,\n <tf.Tensor: id=119253, shape=(), dtype=float32, numpy=10.688187>,\n <tf.Tensor: id=121865, shape=(), dtype=float32, numpy=11.064234>,\n <tf.Tensor: id=124237, shape=(), dtype=float32, numpy=10.818807>,\n <tf.Tensor: id=126610, shape=(), dtype=float32, numpy=10.624001>,\n <tf.Tensor: id=129225, shape=(), dtype=float32, numpy=10.725315>,\n <tf.Tensor: id=131600, shape=(), dtype=float32, numpy=10.785836>,\n <tf.Tensor: id=133976, shape=(), dtype=float32, numpy=10.662865>,\n <tf.Tensor: id=136353, shape=(), dtype=float32, numpy=10.573039>,\n <tf.Tensor: id=138972, shape=(), dtype=float32, numpy=10.602055>,\n <tf.Tensor: id=141351, shape=(), dtype=float32, numpy=10.652277>,\n <tf.Tensor: id=143731, shape=(), dtype=float32, numpy=10.607613>,\n <tf.Tensor: id=146112, shape=(), dtype=float32, numpy=10.511428>,\n <tf.Tensor: id=148735, shape=(), dtype=float32, numpy=10.504939>,\n <tf.Tensor: id=151359, shape=(), dtype=float32, numpy=10.571279>,\n <tf.Tensor: id=153743, shape=(), dtype=float32, numpy=10.526515>,\n <tf.Tensor: id=156128, shape=(), dtype=float32, numpy=10.461079>,\n <tf.Tensor: id=158755, shape=(), dtype=float32, numpy=10.516413>,\n <tf.Tensor: id=161142, shape=(), dtype=float32, numpy=10.507012>,\n <tf.Tensor: id=163530, shape=(), dtype=float32, numpy=10.454925>,\n <tf.Tensor: id=166160, shape=(), dtype=float32, numpy=10.486778>,\n <tf.Tensor: id=168550, shape=(), dtype=float32, numpy=10.473304>,\n <tf.Tensor: id=170941, shape=(), dtype=float32, numpy=10.458714>,\n <tf.Tensor: id=173333, shape=(), dtype=float32, numpy=10.476588>,\n <tf.Tensor: id=175726, shape=(), dtype=float32, numpy=10.452303>,\n <tf.Tensor: id=178361, shape=(), dtype=float32, numpy=10.458368>,\n <tf.Tensor: id=180756, shape=(), dtype=float32, numpy=10.465619>,\n <tf.Tensor: id=183152, shape=(), dtype=float32, numpy=10.438115>,\n <tf.Tensor: id=185790, shape=(), dtype=float32, numpy=10.456888>,\n <tf.Tensor: id=188188, shape=(), dtype=float32, numpy=10.455007>,\n <tf.Tensor: id=190587, shape=(), dtype=float32, numpy=10.435228>,\n <tf.Tensor: id=193228, shape=(), dtype=float32, numpy=10.453338>,\n <tf.Tensor: id=195629, shape=(), dtype=float32, numpy=10.444049>,\n <tf.Tensor: id=198031, shape=(), dtype=float32, numpy=10.437533>,\n <tf.Tensor: id=200434, shape=(), dtype=float32, numpy=10.446798>,\n <tf.Tensor: id=202838, shape=(), dtype=float32, numpy=10.4363365>,\n <tf.Tensor: id=205243, shape=(), dtype=float32, numpy=10.440689>,\n <tf.Tensor: id=207649, shape=(), dtype=float32, numpy=10.438041>,\n <tf.Tensor: id=210056, shape=(), dtype=float32, numpy=10.435011>]"
     },
     "execution_count": 7,
     "metadata": {},
     "output_type": "execute_result"
    }
   ],
   "source": [
    "train_fn(model,\n",
    "        train_generator,\n",
    "        valid_generator,\n",
    "        learning_rate=learning_rate,\n",
    "        save_dname=save_dname,\n",
    "        num_epoches=40,\n",
    "        ckpt_path=checkpoint_path)"
   ]
  },
  {
   "cell_type": "code",
   "execution_count": 6,
   "metadata": {},
   "outputs": [
    {
     "name": "stdout",
     "output_type": "stream",
     "text": "Restored from ./tf_ckpts/ckpt-1\n100%|██████████| 1/1 [00:02<00:00,  2.80s/it]\n  0%|          | 0/1 [00:00<?, ?it/s]2-th loss = 32.77659606933594, train_loss = 32.77659606933594\n100%|██████████| 1/1 [00:02<00:00,  2.82s/it]\n3-th loss = 20.265579223632812, train_loss = 20.265579223632812\n"
    },
    {
     "data": {
      "text/plain": "[<tf.Tensor: id=22250, shape=(), dtype=float32, numpy=32.776596>,\n <tf.Tensor: id=26245, shape=(), dtype=float32, numpy=20.26558>]"
     },
     "execution_count": 6,
     "metadata": {},
     "output_type": "execute_result"
    }
   ],
   "source": [
    "train_fn(model,\n",
    "        train_generator,\n",
    "        valid_generator,\n",
    "        learning_rate=learning_rate,\n",
    "        save_dname=save_dname,\n",
    "        num_epoches=4)"
   ]
  },
  {
   "cell_type": "code",
   "execution_count": 9,
   "metadata": {},
   "outputs": [
    {
     "name": "stdout",
     "output_type": "stream",
     "text": "2019-11-22 20:51:26.853312: I tensorflow/core/platform/cpu_feature_guard.cc:142] Your CPU supports instructions that this TensorFlow binary was not compiled to use: AVX2 FMA\n2019-11-22 20:51:26.859576: I tensorflow/core/platform/profile_utils/cpu_utils.cc:94] CPU Frequency: 2195845000 Hz\n2019-11-22 20:51:26.859993: I tensorflow/compiler/xla/service/service.cc:168] XLA service 0x562e8a07d6e0 executing computations on platform Host. Devices:\n2019-11-22 20:51:26.860020: I tensorflow/compiler/xla/service/service.cc:175]   StreamExecutor device (0): Host, Default Version\nTensor(\"conv_pw_5_relu/Identity:0\", shape=(None, 36, 36, 256), dtype=float32)\nKeras pretrained weights loaded from configs/svhn/test/weights.h5!!\n100%|█████████████████████████████████████████████| 2/2 [00:00<00:00,  2.17it/s]\n{'fscore': 0, 'precision': 0.0, 'recall': 0.0}\n"
    }
   ],
   "source": [
    "!python eval.py -c configs/svhn.json"
   ]
  },
  {
   "cell_type": "code",
   "execution_count": 10,
   "metadata": {},
   "outputs": [],
   "source": [
    "# !python gen_anchors.py -c config.json"
   ]
  },
  {
   "cell_type": "code",
   "execution_count": null,
   "metadata": {},
   "outputs": [],
   "source": []
  }
 ]
}