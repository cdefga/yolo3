{
 "nbformat": 4,
 "nbformat_minor": 2,
 "metadata": {
  "language_info": {
   "name": "python",
   "codemirror_mode": {
    "name": "ipython",
    "version": 3
   }
  },
  "orig_nbformat": 2,
  "file_extension": ".py",
  "mimetype": "text/x-python",
  "name": "python",
  "npconvert_exporter": "python",
  "pygments_lexer": "ipython3",
  "version": 3
 },
 "cells": [
  {
   "cell_type": "code",
   "execution_count": 4,
   "metadata": {},
   "outputs": [
    {
     "name": "stdout",
     "output_type": "stream",
     "text": "/home/bakasaka/Projects/yolo3-tf2\n"
    }
   ],
   "source": [
    "import os\n",
    "os.chdir(os.getcwd())\n",
    "print(os.getcwd())"
   ]
  },
  {
   "cell_type": "code",
   "execution_count": 2,
   "metadata": {},
   "outputs": [
    {
     "name": "stdout",
     "output_type": "stream",
     "text": "_initial_net_size\n288 288 288\nTraining samples : 2, Validation samples : 0\n2019-11-05 02:17:51.549195: I tensorflow/core/platform/cpu_feature_guard.cc:142] Your CPU supports instructions that this TensorFlow binary was not compiled to use: AVX2 FMA\n2019-11-05 02:17:51.554521: I tensorflow/core/platform/profile_utils/cpu_utils.cc:94] CPU Frequency: 2195855000 Hz\n2019-11-05 02:17:51.555232: I tensorflow/compiler/xla/service/service.cc:168] XLA service 0x55b9b54f1fc0 executing computations on platform Host. Devices:\n2019-11-05 02:17:51.555256: I tensorflow/compiler/xla/service/service.cc:175]   StreamExecutor device (0): Host, Default Version\n62001757\nOriginal yolov3 weights loaded!!\n100%|█████████████████████████████████████████████| 1/1 [00:03<00:00,  3.85s/it]\n0-th loss = 64.84725952148438, train_loss = 64.84725952148438\n    update weight 64.84725952148438\n100%|█████████████████████████████████████████████| 1/1 [00:03<00:00,  3.05s/it]\n1-th loss = 32.74294662475586, train_loss = 32.74294662475586\n    update weight 32.74294662475586\n100%|█████████████████████████████████████████████| 1/1 [00:03<00:00,  3.03s/it]\n2-th loss = 19.398000717163086, train_loss = 19.398000717163086\n    update weight 19.398000717163086\n100%|█████████████████████████████████████████████| 1/1 [00:02<00:00,  2.92s/it]\n3-th loss = 15.05298900604248, train_loss = 15.05298900604248\n    update weight 15.05298900604248\n100%|█████████████████████████████████████████████| 1/1 [00:03<00:00,  3.03s/it]\n4-th loss = 11.333745956420898, train_loss = 11.333745956420898\n    update weight 11.333745956420898\n100%|█████████████████████████████████████████████| 1/1 [00:02<00:00,  2.85s/it]\n5-th loss = 10.831500053405762, train_loss = 10.831500053405762\n    update weight 10.831500053405762\n100%|█████████████████████████████████████████████| 1/1 [00:03<00:00,  3.11s/it]\n6-th loss = 9.898781776428223, train_loss = 9.898781776428223\n    update weight 9.898781776428223\n100%|█████████████████████████████████████████████| 1/1 [00:02<00:00,  2.86s/it]\n7-th loss = 9.277219772338867, train_loss = 9.277219772338867\n    update weight 9.277219772338867\n100%|█████████████████████████████████████████████| 1/1 [00:02<00:00,  2.73s/it]\n8-th loss = 7.604146957397461, train_loss = 7.604146957397461\n    update weight 7.604146957397461\n100%|█████████████████████████████████████████████| 1/1 [00:02<00:00,  2.78s/it]\n9-th loss = 7.511594772338867, train_loss = 7.511594772338867\n    update weight 7.511594772338867\n100%|█████████████████████████████████████████████| 1/1 [00:02<00:00,  2.79s/it]\n10-th loss = 7.278336524963379, train_loss = 7.278336524963379\n    update weight 7.278336524963379\n100%|█████████████████████████████████████████████| 1/1 [00:02<00:00,  2.71s/it]\n11-th loss = 5.583051681518555, train_loss = 5.583051681518555\n    update weight 5.583051681518555\n100%|█████████████████████████████████████████████| 1/1 [00:02<00:00,  2.71s/it]\n12-th loss = 6.222064018249512, train_loss = 6.222064018249512\n100%|█████████████████████████████████████████████| 1/1 [00:02<00:00,  2.75s/it]\n13-th loss = 4.820259094238281, train_loss = 4.820259094238281\n    update weight 4.820259094238281\n100%|█████████████████████████████████████████████| 1/1 [00:02<00:00,  2.88s/it]\n14-th loss = 5.528141021728516, train_loss = 5.528141021728516\n100%|█████████████████████████████████████████████| 1/1 [00:02<00:00,  2.72s/it]\n15-th loss = 4.115774631500244, train_loss = 4.115774631500244\n    update weight 4.115774631500244\n100%|█████████████████████████████████████████████| 1/1 [00:02<00:00,  2.90s/it]\n16-th loss = 3.8388888835906982, train_loss = 3.8388888835906982\n    update weight 3.8388888835906982\n100%|█████████████████████████████████████████████| 1/1 [00:03<00:00,  3.32s/it]\n17-th loss = 3.6042063236236572, train_loss = 3.6042063236236572\n    update weight 3.6042063236236572\n100%|█████████████████████████████████████████████| 1/1 [00:03<00:00,  3.14s/it]\n18-th loss = 3.2438743114471436, train_loss = 3.2438743114471436\n    update weight 3.2438743114471436\n100%|█████████████████████████████████████████████| 1/1 [00:03<00:00,  3.05s/it]\n19-th loss = 3.0542590618133545, train_loss = 3.0542590618133545\n    update weight 3.0542590618133545\n100%|█████████████████████████████████████████████| 1/1 [00:03<00:00,  3.09s/it]\n20-th loss = 2.540226697921753, train_loss = 2.540226697921753\n    update weight 2.540226697921753\n100%|█████████████████████████████████████████████| 1/1 [00:03<00:00,  3.04s/it]\n21-th loss = 2.4404046535491943, train_loss = 2.4404046535491943\n    update weight 2.4404046535491943\n100%|█████████████████████████████████████████████| 1/1 [00:02<00:00,  2.97s/it]\n22-th loss = 2.4090499877929688, train_loss = 2.4090499877929688\n    update weight 2.4090499877929688\n100%|█████████████████████████████████████████████| 1/1 [00:03<00:00,  3.00s/it]\n23-th loss = 2.4134445190429688, train_loss = 2.4134445190429688\n100%|█████████████████████████████████████████████| 1/1 [00:02<00:00,  2.95s/it]\n24-th loss = 2.704470157623291, train_loss = 2.704470157623291\n100%|█████████████████████████████████████████████| 1/1 [00:03<00:00,  3.08s/it]\n25-th loss = 1.7368353605270386, train_loss = 1.7368353605270386\n    update weight 1.7368353605270386\n100%|█████████████████████████████████████████████| 1/1 [00:03<00:00,  3.03s/it]\n26-th loss = 1.595102310180664, train_loss = 1.595102310180664\n    update weight 1.595102310180664\n100%|█████████████████████████████████████████████| 1/1 [00:03<00:00,  3.09s/it]\n27-th loss = 2.7410802841186523, train_loss = 2.7410802841186523\n100%|█████████████████████████████████████████████| 1/1 [00:03<00:00,  3.14s/it]\n28-th loss = 1.4682979583740234, train_loss = 1.4682979583740234\n    update weight 1.4682979583740234\n100%|█████████████████████████████████████████████| 1/1 [00:03<00:00,  3.20s/it]\n29-th loss = 1.0811294317245483, train_loss = 1.0811294317245483\n    update weight 1.0811294317245483\n100%|█████████████████████████████████████████████| 1/1 [00:03<00:00,  3.11s/it]\n30-th loss = 2.1969833374023438, train_loss = 2.1969833374023438\n100%|█████████████████████████████████████████████| 1/1 [00:03<00:00,  3.00s/it]\n31-th loss = 1.4332101345062256, train_loss = 1.4332101345062256\n100%|█████████████████████████████████████████████| 1/1 [00:03<00:00,  3.21s/it]\n32-th loss = 1.3198076486587524, train_loss = 1.3198076486587524\n100%|█████████████████████████████████████████████| 1/1 [00:03<00:00,  3.44s/it]\n33-th loss = 2.2667653560638428, train_loss = 2.2667653560638428\n100%|█████████████████████████████████████████████| 1/1 [00:03<00:00,  3.27s/it]\n34-th loss = 0.7117461562156677, train_loss = 0.7117461562156677\n    update weight 0.7117461562156677\n100%|█████████████████████████████████████████████| 1/1 [00:03<00:00,  3.25s/it]\n35-th loss = 1.4035941362380981, train_loss = 1.4035941362380981\n100%|█████████████████████████████████████████████| 1/1 [00:03<00:00,  3.07s/it]\n36-th loss = 2.0056204795837402, train_loss = 2.0056204795837402\n100%|█████████████████████████████████████████████| 1/1 [00:03<00:00,  3.07s/it]\n37-th loss = 0.6688080430030823, train_loss = 0.6688080430030823\n    update weight 0.6688080430030823\n100%|█████████████████████████████████████████████| 1/1 [00:02<00:00,  2.81s/it]\n38-th loss = 2.911304235458374, train_loss = 2.911304235458374\n100%|█████████████████████████████████████████████| 1/1 [00:03<00:00,  3.26s/it]\n39-th loss = 1.8580069541931152, train_loss = 1.8580069541931152\n"
    }
   ],
   "source": [
    "!python train_eager.py -c configs/svhn.json"
   ]
  },
  {
   "cell_type": "code",
   "execution_count": 4,
   "metadata": {},
   "outputs": [
    {
     "name": "stdout",
     "output_type": "stream",
     "text": "2019-11-05 02:27:39.947885: I tensorflow/core/platform/cpu_feature_guard.cc:142] Your CPU supports instructions that this TensorFlow binary was not compiled to use: AVX2 FMA\n2019-11-05 02:27:39.952570: I tensorflow/core/platform/profile_utils/cpu_utils.cc:94] CPU Frequency: 2195855000 Hz\n2019-11-05 02:27:39.953131: I tensorflow/compiler/xla/service/service.cc:168] XLA service 0x55ad3c73dfe0 executing computations on platform Host. Devices:\n2019-11-05 02:27:39.953159: I tensorflow/compiler/xla/service/service.cc:175]   StreamExecutor device (0): Host, Default Version\nKeras pretrained weights loaded from configs/svhn/weights.h5!!\n100%|█████████████████████████████████████████████| 2/2 [00:01<00:00,  1.44it/s]\n{'fscore': 1.0, 'precision': 1.0, 'recall': 1.0}\n"
    }
   ],
   "source": [
    "!python eval.py -c configs/svhn.json"
   ]
  },
  {
   "cell_type": "code",
   "execution_count": null,
   "metadata": {},
   "outputs": [],
   "source": []
  }
 ]
}