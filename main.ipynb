{
 "nbformat": 4,
 "nbformat_minor": 2,
 "metadata": {
  "language_info": {
   "name": "python",
   "codemirror_mode": {
    "name": "ipython",
    "version": 3
   }
  },
  "orig_nbformat": 2,
  "file_extension": ".py",
  "mimetype": "text/x-python",
  "name": "python",
  "npconvert_exporter": "python",
  "pygments_lexer": "ipython3",
  "version": 3
 },
 "cells": [
  {
   "cell_type": "code",
   "execution_count": 1,
   "metadata": {},
   "outputs": [
    {
     "name": "stdout",
     "output_type": "stream",
     "text": "/home/bakasaka/Projects/yolo3-tf2\n"
    }
   ],
   "source": [
    "import os\n",
    "os.chdir(os.getcwd())\n",
    "print(os.getcwd())"
   ]
  },
  {
   "cell_type": "code",
   "execution_count": 2,
   "metadata": {},
   "outputs": [],
   "source": [
    "import tensorflow as tf\n",
    "from yolo.train import train_fn\n",
    "from yolo.config import ConfigParser"
   ]
  },
  {
   "cell_type": "code",
   "execution_count": 3,
   "metadata": {},
   "outputs": [],
   "source": [
    "# import tensorflow as tf\n",
    "# print(\"Num GPUs Available: \", len(tf.config.experimental.list_physical_devices('GPU')))\n"
   ]
  },
  {
   "cell_type": "code",
   "execution_count": 4,
   "metadata": {},
   "outputs": [
    {
     "name": "stdout",
     "output_type": "stream",
     "text": "_initial_net_size\n288 288 288\nTraining samples : 2, Validation samples : 0\n62001757\nOriginal yolov3 weights loaded!!\n"
    }
   ],
   "source": [
    "config = './configs/svhn.json'\n",
    "config_parser = ConfigParser(config)\n",
    "\n",
    "# 1. create generator\n",
    "train_generator, valid_generator = config_parser.create_generator()\n",
    "\n",
    "# 2. create model\n",
    "model = config_parser.create_model()\n",
    "\n",
    "# 3. training\n",
    "learning_rate, save_dname, n_epoches, checkpoint_path = config_parser.get_train_params()\n"
   ]
  },
  {
   "cell_type": "code",
   "execution_count": 5,
   "metadata": {},
   "outputs": [
    {
     "name": "stderr",
     "output_type": "stream",
     "text": "0%|          | 0/1 [00:00<?, ?it/s]Initializing from scratch.\n100%|██████████| 1/1 [00:03<00:00,  3.75s/it]\n1-th loss = 46.93118667602539, train_loss = 46.93118667602539\n"
    },
    {
     "data": {
      "text/plain": "[<tf.Tensor: id=13826, shape=(), dtype=float32, numpy=46.931187>]"
     },
     "execution_count": 5,
     "metadata": {},
     "output_type": "execute_result"
    }
   ],
   "source": [
    "train_fn(model,\n",
    "        train_generator,\n",
    "        valid_generator,\n",
    "        learning_rate=learning_rate,\n",
    "        save_dname=save_dname,\n",
    "        num_epoches=2,\n",
    "        ckpt_path=checkpoint_path)"
   ]
  },
  {
   "cell_type": "code",
   "execution_count": 6,
   "metadata": {},
   "outputs": [
    {
     "name": "stdout",
     "output_type": "stream",
     "text": "Restored from ./tf_ckpts/ckpt-1\n100%|██████████| 1/1 [00:02<00:00,  2.80s/it]\n  0%|          | 0/1 [00:00<?, ?it/s]2-th loss = 32.77659606933594, train_loss = 32.77659606933594\n100%|██████████| 1/1 [00:02<00:00,  2.82s/it]\n3-th loss = 20.265579223632812, train_loss = 20.265579223632812\n"
    },
    {
     "data": {
      "text/plain": "[<tf.Tensor: id=22250, shape=(), dtype=float32, numpy=32.776596>,\n <tf.Tensor: id=26245, shape=(), dtype=float32, numpy=20.26558>]"
     },
     "execution_count": 6,
     "metadata": {},
     "output_type": "execute_result"
    }
   ],
   "source": [
    "train_fn(model,\n",
    "        train_generator,\n",
    "        valid_generator,\n",
    "        learning_rate=learning_rate,\n",
    "        save_dname=save_dname,\n",
    "        num_epoches=4)"
   ]
  },
  {
   "cell_type": "code",
   "execution_count": null,
   "metadata": {},
   "outputs": [],
   "source": []
  }
 ]
}